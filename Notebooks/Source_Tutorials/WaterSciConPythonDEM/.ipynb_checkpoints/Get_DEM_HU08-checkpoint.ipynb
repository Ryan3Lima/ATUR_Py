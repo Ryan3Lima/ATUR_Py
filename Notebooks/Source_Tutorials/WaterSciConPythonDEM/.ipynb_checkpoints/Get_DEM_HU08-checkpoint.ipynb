{
 "cells": [
  {
   "cell_type": "code",
   "execution_count": 3,
   "id": "7b0cc12f-bd70-42ea-9e31-393591c7a854",
   "metadata": {},
   "outputs": [
    {
     "name": "stdout",
     "output_type": "stream",
     "text": [
      "Requirement already satisfied: progressbar in c:\\users\\rylim\\anaconda3\\envs\\hyriver\\lib\\site-packages (2.5)\n"
     ]
    }
   ],
   "source": [
    "!pip install progressbar"
   ]
  },
  {
   "cell_type": "code",
   "execution_count": 10,
   "id": "0e56ea8d-5685-4502-8ce1-f7840092b965",
   "metadata": {},
   "outputs": [],
   "source": [
    "## Import the modules/packages/libraries required\n",
    "import math\n",
    "import numpy as np\n",
    "import os\n",
    "import matplotlib.pyplot as plt\n",
    "\n",
    "from pynhd import NLDI\n",
    "from pynhd import WaterData\n",
    "import urllib.request\n",
    "import progressbar\n",
    "import rasterio\n",
    "import rasterio.plot\n",
    "\n",
    "import geopandas as gpd\n",
    "from shapely.geometry import Polygon\n",
    "\n",
    "from datetime import datetime\n",
    "\n",
    "from os.path import expanduser"
   ]
  },
  {
   "cell_type": "code",
   "execution_count": 5,
   "id": "f1e153db-90e8-4994-a437-75a50b9c6f1c",
   "metadata": {},
   "outputs": [
    {
     "name": "stdout",
     "output_type": "stream",
     "text": [
      "PyNHD version:  0.16.3\n",
      "Rasterio version:  1.3.10\n",
      "Geopandas version:  1.0.0\n",
      "Shapely version:  2.0.4\n"
     ]
    }
   ],
   "source": [
    "## Print the version number\n",
    "import pynhd\n",
    "print(\"PyNHD version: \",pynhd.__version__)\n",
    "del pynhd\n",
    "\n",
    "print(\"Rasterio version: \",rasterio.__version__)\n",
    "print(\"Geopandas version: \",gpd.__version__)\n",
    "\n",
    "import shapely\n",
    "print(\"Shapely version: \",shapely.__version__)\n",
    "del shapely"
   ]
  },
  {
   "cell_type": "code",
   "execution_count": null,
   "id": "25622d86-a81b-4fef-bb7c-1642a569a2ec",
   "metadata": {},
   "outputs": [],
   "source": [
    "## Input the USGS site number to get the shapefile\n",
    "#site_id=\"03363000\"\n",
    "site_id=\"1502001\"\n",
    "\n",
    "import py3dep"
   ]
  },
  {
   "cell_type": "code",
   "execution_count": 19,
   "id": "e055cab1-72a8-4903-8ed7-5fda74e19017",
   "metadata": {},
   "outputs": [
    {
     "name": "stdout",
     "output_type": "stream",
     "text": [
      "The new directory /hu8[1m'C:\\Users\\rylim/scratch/DEM_Access'/hu8[0m is not created as it already exists!\n",
      "The new directory /hu8[1m'C:\\Users\\rylim/scratch/DEM_Access/data_1502001'/hu8[0m is not created as it already exists!\n",
      "The new directory /hu8[1m'C:\\Users\\rylim/scratch/DEM_Access/data_1502001/raw_1502001'/hu8[0m is not created as it already exists!\n"
     ]
    }
   ],
   "source": [
    "## Input the USGS site number to get the shapefile\n",
    "#site_id=\"03363000\"\n",
    "site_id=\"1502001\"\n",
    "\n",
    "## Resolution of required DEM\n",
    "## USGS-AWS has different options like 1/3 arc second (code = 13), 1/9 arc second (code = 19; currently unavailable)\n",
    "## WRITE CODE BELOW\n",
    "resolution='1'\n",
    "\n",
    "## Define a function for making a directory depending on whether is exists or not.\n",
    "## We are creating a function so that it can be used later for creating three folders in the later modules\n",
    "def check_create_path_func(path):\n",
    "    isExist = os.path.exists(path)\n",
    "    if not isExist:\n",
    "        # Create a new directory because it does not exist\n",
    "        os.makedirs(path)\n",
    "        print(f\"The new directory /hu8[1m'{path}'/hu8[0m is created!\")\n",
    "    else:\n",
    "        print(f\"The new directory /hu8[1m'{path}'/hu8[0m is not created as it already exists!\")\n",
    "        \n",
    "## Create the a folder for storing DEMs using the earlier defined function\n",
    "folder_main=f\"{expanduser('~')}/scratch/DEM_Access\"\n",
    "check_create_path_func(folder_main)\n",
    "\n",
    "## WRITE CODE BELOW\n",
    "folder_input = f\"{folder_main}/data_{site_id}\"\n",
    "check_create_path_func(folder_input)\n",
    "dem_files_store=f'{folder_input}/raw_{site_id}'\n",
    "check_create_path_func(dem_files_store)\n",
    "\n",
    "\n"
   ]
  },
  {
   "cell_type": "code",
   "execution_count": 20,
   "id": "b264531a-24ef-42fa-81c4-d0cb1d722b9b",
   "metadata": {},
   "outputs": [
    {
     "data": {
      "text/plain": [
       "Connected to the WaterData web service on GeoServer:\n",
       "URL: https://labs.waterdata.usgs.gov/geoserver/wmadata/ows\n",
       "Version: 2.0.0\n",
       "Layer: wmadata:wbd08_20201006\n",
       "Output Format: application/json\n",
       "Output CRS: 4326"
      ]
     },
     "execution_count": 20,
     "metadata": {},
     "output_type": "execute_result"
    }
   ],
   "source": [
    "hu8=WaterData('wbd08', crs=4326)\n",
    "hu8"
   ]
  },
  {
   "cell_type": "code",
   "execution_count": 14,
   "id": "657e1d58-2695-44c1-a5a3-0a99e88a6629",
   "metadata": {},
   "outputs": [
    {
     "data": {
      "text/plain": [
       "\u001b[1;31mSignature:\u001b[0m \u001b[0mhu8\u001b[0m\u001b[1;33m.\u001b[0m\u001b[0mbyid\u001b[0m\u001b[1;33m(\u001b[0m\u001b[0mfeaturename\u001b[0m\u001b[1;33m:\u001b[0m \u001b[1;34m'str'\u001b[0m\u001b[1;33m,\u001b[0m \u001b[0mfeatureids\u001b[0m\u001b[1;33m:\u001b[0m \u001b[1;34m'Sequence[int | str] | int | str'\u001b[0m\u001b[1;33m)\u001b[0m \u001b[1;33m->\u001b[0m \u001b[1;34m'gpd.GeoDataFrame'\u001b[0m\u001b[1;33m\u001b[0m\u001b[1;33m\u001b[0m\u001b[0m\n",
       "\u001b[1;31mDocstring:\u001b[0m Get features based on IDs.\n",
       "\u001b[1;31mFile:\u001b[0m      c:\\users\\rylim\\anaconda3\\envs\\hyriver\\lib\\site-packages\\pynhd\\pynhd.py\n",
       "\u001b[1;31mType:\u001b[0m      method"
      ]
     },
     "metadata": {},
     "output_type": "display_data"
    }
   ],
   "source": [
    "?hu8.byid"
   ]
  },
  {
   "cell_type": "code",
   "execution_count": 21,
   "id": "3fa87ee1-1ca4-45b8-9dfe-4399f4a2db65",
   "metadata": {},
   "outputs": [
    {
     "ename": "ZeroMatchedError",
     "evalue": "Service returned no features.",
     "output_type": "error",
     "traceback": [
      "\u001b[1;31m---------------------------------------------------------------------------\u001b[0m",
      "\u001b[1;31mStopIteration\u001b[0m                             Traceback (most recent call last)",
      "File \u001b[1;32m~\\anaconda3\\envs\\hyriver\\Lib\\site-packages\\pygeoutils\\pygeoutils.py:129\u001b[0m, in \u001b[0;36mjson2geodf\u001b[1;34m(content, in_crs, crs)\u001b[0m\n\u001b[0;32m    128\u001b[0m \u001b[38;5;28;01mtry\u001b[39;00m:\n\u001b[1;32m--> 129\u001b[0m     geodf \u001b[38;5;241m=\u001b[39m _gdf_from_features(\u001b[38;5;28;43mnext\u001b[39;49m\u001b[43m(\u001b[49m\u001b[38;5;28;43miter\u001b[39;49m\u001b[43m(\u001b[49m\u001b[43mcontent\u001b[49m\u001b[43m)\u001b[49m\u001b[43m)\u001b[49m, in_crs, crs)\n\u001b[0;32m    130\u001b[0m \u001b[38;5;28;01mexcept\u001b[39;00m \u001b[38;5;167;01mTypeError\u001b[39;00m:\n",
      "\u001b[1;31mStopIteration\u001b[0m: ",
      "\nThe above exception was the direct cause of the following exception:\n",
      "\u001b[1;31mEmptyResponseError\u001b[0m                        Traceback (most recent call last)",
      "File \u001b[1;32m~\\anaconda3\\envs\\hyriver\\Lib\\site-packages\\pynhd\\pynhd.py:602\u001b[0m, in \u001b[0;36mWaterData._to_geodf\u001b[1;34m(self, resp)\u001b[0m\n\u001b[0;32m    601\u001b[0m \u001b[38;5;28;01mtry\u001b[39;00m:\n\u001b[1;32m--> 602\u001b[0m     features \u001b[38;5;241m=\u001b[39m \u001b[43mgeoutils\u001b[49m\u001b[38;5;241;43m.\u001b[39;49m\u001b[43mjson2geodf\u001b[49m\u001b[43m(\u001b[49m\u001b[43mresp\u001b[49m\u001b[43m,\u001b[49m\u001b[43m \u001b[49m\u001b[38;5;28;43mself\u001b[39;49m\u001b[38;5;241;43m.\u001b[39;49m\u001b[43mwfs\u001b[49m\u001b[38;5;241;43m.\u001b[39;49m\u001b[43mcrs\u001b[49m\u001b[43m,\u001b[49m\u001b[43m \u001b[49m\u001b[38;5;28;43mself\u001b[39;49m\u001b[38;5;241;43m.\u001b[39;49m\u001b[43mcrs\u001b[49m\u001b[43m)\u001b[49m\n\u001b[0;32m    603\u001b[0m \u001b[38;5;28;01mexcept\u001b[39;00m EmptyResponseError \u001b[38;5;28;01mas\u001b[39;00m ex:\n",
      "File \u001b[1;32m~\\anaconda3\\envs\\hyriver\\Lib\\site-packages\\pygeoutils\\pygeoutils.py:134\u001b[0m, in \u001b[0;36mjson2geodf\u001b[1;34m(content, in_crs, crs)\u001b[0m\n\u001b[0;32m    133\u001b[0m \u001b[38;5;28;01mexcept\u001b[39;00m \u001b[38;5;167;01mStopIteration\u001b[39;00m \u001b[38;5;28;01mas\u001b[39;00m ex:\n\u001b[1;32m--> 134\u001b[0m     \u001b[38;5;28;01mraise\u001b[39;00m EmptyResponseError \u001b[38;5;28;01mfrom\u001b[39;00m \u001b[38;5;21;01mex\u001b[39;00m\n\u001b[0;32m    136\u001b[0m \u001b[38;5;28;01mif\u001b[39;00m \u001b[38;5;28mlen\u001b[39m(content) \u001b[38;5;241m>\u001b[39m \u001b[38;5;241m1\u001b[39m:\n",
      "\u001b[1;31mEmptyResponseError\u001b[0m: The input response is empty.",
      "\nThe above exception was the direct cause of the following exception:\n",
      "\u001b[1;31mZeroMatchedError\u001b[0m                          Traceback (most recent call last)",
      "Cell \u001b[1;32mIn[21], line 1\u001b[0m\n\u001b[1;32m----> 1\u001b[0m gpd \u001b[38;5;241m=\u001b[39m \u001b[43mhu8\u001b[49m\u001b[38;5;241;43m.\u001b[39;49m\u001b[43mbyid\u001b[49m\u001b[43m(\u001b[49m\u001b[38;5;124;43m'\u001b[39;49m\u001b[38;5;124;43mhuc8\u001b[39;49m\u001b[38;5;124;43m'\u001b[39;49m\u001b[43m,\u001b[49m\u001b[43msite_id\u001b[49m\u001b[43m)\u001b[49m\n\u001b[0;32m      2\u001b[0m gpd\n",
      "File \u001b[1;32m~\\anaconda3\\envs\\hyriver\\Lib\\site-packages\\pynhd\\pynhd.py:739\u001b[0m, in \u001b[0;36mWaterData.byid\u001b[1;34m(self, featurename, featureids)\u001b[0m\n\u001b[0;32m    734\u001b[0m resp \u001b[38;5;241m=\u001b[39m \u001b[38;5;28mself\u001b[39m\u001b[38;5;241m.\u001b[39mwfs\u001b[38;5;241m.\u001b[39mgetfeature_byid(\n\u001b[0;32m    735\u001b[0m     featurename,\n\u001b[0;32m    736\u001b[0m     featureids,\n\u001b[0;32m    737\u001b[0m )\n\u001b[0;32m    738\u001b[0m resp \u001b[38;5;241m=\u001b[39m cast(\u001b[38;5;124m\"\u001b[39m\u001b[38;5;124mlist[dict[str, Any]]\u001b[39m\u001b[38;5;124m\"\u001b[39m, resp)\n\u001b[1;32m--> 739\u001b[0m features \u001b[38;5;241m=\u001b[39m \u001b[38;5;28;43mself\u001b[39;49m\u001b[38;5;241;43m.\u001b[39;49m\u001b[43m_to_geodf\u001b[49m\u001b[43m(\u001b[49m\u001b[43mresp\u001b[49m\u001b[43m)\u001b[49m\n\u001b[0;32m    741\u001b[0m \u001b[38;5;28;01mif\u001b[39;00m \u001b[38;5;28misinstance\u001b[39m(featureids, (\u001b[38;5;28mstr\u001b[39m, \u001b[38;5;28mint\u001b[39m)):\n\u001b[0;32m    742\u001b[0m     fids \u001b[38;5;241m=\u001b[39m [\u001b[38;5;28mstr\u001b[39m(featureids)]\n",
      "File \u001b[1;32m~\\anaconda3\\envs\\hyriver\\Lib\\site-packages\\pynhd\\pynhd.py:604\u001b[0m, in \u001b[0;36mWaterData._to_geodf\u001b[1;34m(self, resp)\u001b[0m\n\u001b[0;32m    602\u001b[0m     features \u001b[38;5;241m=\u001b[39m geoutils\u001b[38;5;241m.\u001b[39mjson2geodf(resp, \u001b[38;5;28mself\u001b[39m\u001b[38;5;241m.\u001b[39mwfs\u001b[38;5;241m.\u001b[39mcrs, \u001b[38;5;28mself\u001b[39m\u001b[38;5;241m.\u001b[39mcrs)\n\u001b[0;32m    603\u001b[0m \u001b[38;5;28;01mexcept\u001b[39;00m EmptyResponseError \u001b[38;5;28;01mas\u001b[39;00m ex:\n\u001b[1;32m--> 604\u001b[0m     \u001b[38;5;28;01mraise\u001b[39;00m ZeroMatchedError \u001b[38;5;28;01mfrom\u001b[39;00m \u001b[38;5;21;01mex\u001b[39;00m\n\u001b[0;32m    606\u001b[0m \u001b[38;5;28;01mif\u001b[39;00m features\u001b[38;5;241m.\u001b[39mempty:\n\u001b[0;32m    607\u001b[0m     \u001b[38;5;28;01mraise\u001b[39;00m ZeroMatchedError\n",
      "\u001b[1;31mZeroMatchedError\u001b[0m: Service returned no features."
     ]
    }
   ],
   "source": [
    "gpd = hu8.byid('huc8',site_id)\n",
    "gpd"
   ]
  },
  {
   "cell_type": "code",
   "execution_count": null,
   "id": "5dc9d330-d010-4e66-9f7c-72e2e182744b",
   "metadata": {},
   "outputs": [],
   "source": [
    "## Get the watershed using USGS station number using pynhd module\n",
    "## WRITE THE CODE BELOW\n",
    "watershed=NLDI().get_basins(site_id,fsource='nwissite')\n",
    "\n",
    "## Other feature sources\n",
    "## ‘nwissite’ for USGS NWIS Surface Water Sites (default)\n",
    "## ‘comid’ for NHDPlus comid.\n",
    "## ‘ca_gages’ for Streamgage catalog for CA SB19\n",
    "## ‘gfv11_pois’ for USGS Geospatial Fabric V1.1 Points of Interest\n",
    "## ‘huc12pp’ for HUC12 Pour Points\n",
    "## ‘nmwdi-st’ for New Mexico Water Data Initative Sites\n",
    "## ‘nwisgw’ for NWIS Groundwater Sites\n",
    "## ‘ref_gage’ for geoconnex.us reference gages\n",
    "## ‘vigil’ for Vigil Network Data\n",
    "## ‘wade’ for Water Data Exchange 2.0 Sites\n",
    "## ‘WQP’ for Water Quality Portal\n",
    "\n",
    "## Transform to Albers Equal Area projection (EPSG:5070)\n",
    "watershed_albers = watershed.to_crs(epsg=5070)\n",
    "## Calculate the area in square miles\n",
    "## 1 square meter = 0.386102 square miles\n",
    "watershed_albers['area_sq_mi'] = watershed_albers.area / 1e6 * 0.386102  \n",
    "#print(watershed_albers['area_sq_mi'][0])\n",
    "\n",
    "## Plot the watershed\n",
    "## DD indicates latitude/ longitude degrees is in decimal\n",
    "ax = watershed.plot(facecolor=\"b\", \n",
    "                    edgecolor=\"k\", \n",
    "                    figsize=(8, 8))\n",
    "plt.title(f\"Watershed Shapefile in {watershed.crs} Projected CRS\\n(USGS:{site_id}, \"+\n",
    "          f\"Area = {round(watershed_albers['area_sq_mi'].iloc[0],2)} sq. mi.)\")\n",
    "plt.xlabel(\"Longitude (DD)\")\n",
    "plt.ylabel(\"Longitude (DD)\")\n",
    "\n",
    "## Saving the watershed file as a shapefile at desired location\n",
    "shapefile_fileloc_filename=f'{folder_input}/shape_{site_id}.shp'\n",
    "watershed.to_file(filename=shapefile_fileloc_filename,\n",
    "                  driver= 'ESRI Shapefile',\n",
    "                  mode='w')"
   ]
  }
 ],
 "metadata": {
  "kernelspec": {
   "display_name": "Python [conda env:hyriver] *",
   "language": "python",
   "name": "conda-env-hyriver-py"
  },
  "language_info": {
   "codemirror_mode": {
    "name": "ipython",
    "version": 3
   },
   "file_extension": ".py",
   "mimetype": "text/x-python",
   "name": "python",
   "nbconvert_exporter": "python",
   "pygments_lexer": "ipython3",
   "version": "3.12.4"
  }
 },
 "nbformat": 4,
 "nbformat_minor": 5
}
