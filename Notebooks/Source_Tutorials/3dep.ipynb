{
 "cells": [
  {
   "cell_type": "markdown",
   "metadata": {
    "cell_marker": "\"\"\""
   },
   "source": [
    "# Topographic Data"
   ]
  },
  {
   "cell_type": "code",
   "execution_count": 2,
   "metadata": {},
   "outputs": [
    {
     "name": "stdout",
     "output_type": "stream",
     "text": [
      "Collecting osmnx\n",
      "  Downloading osmnx-1.9.3-py3-none-any.whl.metadata (4.8 kB)\n",
      "Requirement already satisfied: geopandas>=0.12 in c:\\users\\rylim\\anaconda3\\envs\\hyriver\\lib\\site-packages (from osmnx) (1.0.0)\n",
      "Requirement already satisfied: networkx>=2.5 in c:\\users\\rylim\\anaconda3\\envs\\hyriver\\lib\\site-packages (from osmnx) (3.3)\n",
      "Requirement already satisfied: numpy>=1.20 in c:\\users\\rylim\\anaconda3\\envs\\hyriver\\lib\\site-packages (from osmnx) (2.0.0)\n",
      "Requirement already satisfied: pandas>=1.1 in c:\\users\\rylim\\anaconda3\\envs\\hyriver\\lib\\site-packages (from osmnx) (2.2.2)\n",
      "Requirement already satisfied: requests>=2.27 in c:\\users\\rylim\\anaconda3\\envs\\hyriver\\lib\\site-packages (from osmnx) (2.32.3)\n",
      "Requirement already satisfied: shapely>=2.0 in c:\\users\\rylim\\anaconda3\\envs\\hyriver\\lib\\site-packages (from osmnx) (2.0.4)\n",
      "Requirement already satisfied: pyogrio>=0.7.2 in c:\\users\\rylim\\anaconda3\\envs\\hyriver\\lib\\site-packages (from geopandas>=0.12->osmnx) (0.9.0)\n",
      "Requirement already satisfied: packaging in c:\\users\\rylim\\anaconda3\\envs\\hyriver\\lib\\site-packages (from geopandas>=0.12->osmnx) (24.1)\n",
      "Requirement already satisfied: pyproj>=3.3.0 in c:\\users\\rylim\\anaconda3\\envs\\hyriver\\lib\\site-packages (from geopandas>=0.12->osmnx) (3.6.1)\n",
      "Requirement already satisfied: python-dateutil>=2.8.2 in c:\\users\\rylim\\anaconda3\\envs\\hyriver\\lib\\site-packages (from pandas>=1.1->osmnx) (2.9.0)\n",
      "Requirement already satisfied: pytz>=2020.1 in c:\\users\\rylim\\anaconda3\\envs\\hyriver\\lib\\site-packages (from pandas>=1.1->osmnx) (2024.1)\n",
      "Requirement already satisfied: tzdata>=2022.7 in c:\\users\\rylim\\anaconda3\\envs\\hyriver\\lib\\site-packages (from pandas>=1.1->osmnx) (2024.1)\n",
      "Requirement already satisfied: charset-normalizer<4,>=2 in c:\\users\\rylim\\anaconda3\\envs\\hyriver\\lib\\site-packages (from requests>=2.27->osmnx) (3.3.2)\n",
      "Requirement already satisfied: idna<4,>=2.5 in c:\\users\\rylim\\anaconda3\\envs\\hyriver\\lib\\site-packages (from requests>=2.27->osmnx) (3.7)\n",
      "Requirement already satisfied: urllib3<3,>=1.21.1 in c:\\users\\rylim\\anaconda3\\envs\\hyriver\\lib\\site-packages (from requests>=2.27->osmnx) (2.2.2)\n",
      "Requirement already satisfied: certifi>=2017.4.17 in c:\\users\\rylim\\anaconda3\\envs\\hyriver\\lib\\site-packages (from requests>=2.27->osmnx) (2024.6.2)\n",
      "Requirement already satisfied: six>=1.5 in c:\\users\\rylim\\anaconda3\\envs\\hyriver\\lib\\site-packages (from python-dateutil>=2.8.2->pandas>=1.1->osmnx) (1.16.0)\n",
      "Downloading osmnx-1.9.3-py3-none-any.whl (107 kB)\n",
      "   ---------------------------------------- 0.0/107.2 kB ? eta -:--:--\n",
      "   --- ------------------------------------ 10.2/107.2 kB ? eta -:--:--\n",
      "   -------------------------- ------------- 71.7/107.2 kB 1.3 MB/s eta 0:00:01\n",
      "   ---------------------------------------- 107.2/107.2 kB 1.5 MB/s eta 0:00:00\n",
      "Installing collected packages: osmnx\n",
      "Successfully installed osmnx-1.9.3\n"
     ]
    }
   ],
   "source": [
    "!pip install osmnx"
   ]
  },
  {
   "cell_type": "code",
   "execution_count": 5,
   "metadata": {},
   "outputs": [],
   "source": [
    "from pathlib import Path\n",
    "\n",
    "import matplotlib.pyplot as plt\n",
    "import networkx as nx\n",
    "import numpy as np\n",
    "import osmnx as ox\n",
    "import osmnx.plot as ox_plot\n",
    "import xarray as xr\n",
    "import xrspatial\n",
    "\n",
    "import py3dep\n",
    "import pydaymet as daymet\n",
    "from pynhd import NLDI"
   ]
  },
  {
   "attachments": {},
   "cell_type": "markdown",
   "metadata": {},
   "source": [
    "Py3DEP provides access to the [3DEP](https://www.usgs.gov/core-science-systems/ngp/3dep) database which is a part of the [National Map services](https://viewer.nationalmap.gov/services). The 3DEP service has multi-resolution sources and depending on the user provided resolution, the data is resampled on the server-side based on all the available data sources. \n",
    "\n",
    "The following functionalities are currently available:\n",
    "\n",
    "- `get_map`: Get topographic data the dynamic 3DEP service that supports the following\n",
    "  layers:\n",
    "\n",
    "    - DEM\n",
    "    - Hillshade Gray\n",
    "    - Aspect Degrees\n",
    "    - Aspect Map\n",
    "    - GreyHillshade Elevation Fill\n",
    "    - Hillshade Multidirectional\n",
    "    - Slope Degrees\n",
    "    - Slope Map\n",
    "    - Hillshade Elevation Tinted\n",
    "    - Height Ellipsoidal\n",
    "    - Contour 25\n",
    "    - Contour Smoothed 25\n",
    "- `get_dem`: Get DEM data from either the dynamic or static 3DEP service. Considering\n",
    "  that the static service is much faster, if the target DEM resolution is 10 m, 30 m, or\n",
    "  60 m, then the static service is used. Otherwise, the dynamic service is used.\n",
    "- `static_3dep_dem`: Get DEM data at 10 m, 30 m, or 60 m resolution from the staged 3DEP\n",
    "  data. Since this function only returns DEM, for computing other terrain attributes you\n",
    "  can use [xarray-spatial](https://xarray-spatial.org). Just note that you should\n",
    "  reproject the output `DataArray` to a projected CRS like 5070 before passing it to\n",
    "  `xarray-spatial` like so: `dem = dem.rio.reproject(5070)`.\n",
    "- `elevation_bygrid`: For retrieving elevations of all the grid points in a 2D grid.\n",
    "- `elevation_bycoords`: For retrieving elevation of a list of `x` and `y` coordinates.\n",
    "- `elevation_profile`: For retrieving elevation profile along a line at a given spacing.\n",
    "  This function converts the line to a B-spline and then calculates the elevation along\n",
    "  the spline at a given uniform spacing.\n",
    "- `deg2mpm`: For converting slope dataset from degree to meter per meter.\n",
    "- `query_3dep_sources`: For querying bounds of 3DEP's data sources within a bounding box.\n",
    "- `check_3dep_availability`: For querying 3DEP's resolution availability within a bounding box.\n",
    "\n",
    "Let's get a watershed geometry using NLDI and then get DEM and slope at 90 m resolution."
   ]
  },
  {
   "cell_type": "code",
   "execution_count": 6,
   "metadata": {},
   "outputs": [],
   "source": [
    "geometry = NLDI().get_basins(\"11092450\").geometry.iloc[0]"
   ]
  },
  {
   "attachments": {},
   "cell_type": "markdown",
   "metadata": {},
   "source": [
    "We can either directly use `get_map` to get DEM and slope or use `get_dem` to get DEM and then use `xarray-spatial` to compute slope."
   ]
  },
  {
   "cell_type": "code",
   "execution_count": 7,
   "metadata": {},
   "outputs": [
    {
     "ename": "ServiceUnavailableError",
     "evalue": "Service is currently not available, try again later:\nhttps://elevation.nationalmap.gov/arcgis/services/3DEPElevation/ImageServer/WMSServer",
     "output_type": "error",
     "traceback": [
      "\u001b[1;31m---------------------------------------------------------------------------\u001b[0m",
      "\u001b[1;31mServiceUnavailableError\u001b[0m                   Traceback (most recent call last)",
      "Cell \u001b[1;32mIn[7], line 1\u001b[0m\n\u001b[1;32m----> 1\u001b[0m topo \u001b[38;5;241m=\u001b[39m \u001b[43mpy3dep\u001b[49m\u001b[38;5;241;43m.\u001b[39;49m\u001b[43mget_map\u001b[49m\u001b[43m(\u001b[49m\u001b[43m[\u001b[49m\u001b[38;5;124;43m\"\u001b[39;49m\u001b[38;5;124;43mDEM\u001b[39;49m\u001b[38;5;124;43m\"\u001b[39;49m\u001b[43m,\u001b[49m\u001b[43m \u001b[49m\u001b[38;5;124;43m\"\u001b[39;49m\u001b[38;5;124;43mSlope Degrees\u001b[39;49m\u001b[38;5;124;43m\"\u001b[39;49m\u001b[43m]\u001b[49m\u001b[43m,\u001b[49m\u001b[43m \u001b[49m\u001b[43mgeometry\u001b[49m\u001b[43m,\u001b[49m\u001b[43m \u001b[49m\u001b[38;5;241;43m90\u001b[39;49m\u001b[43m,\u001b[49m\u001b[43m \u001b[49m\u001b[43mgeo_crs\u001b[49m\u001b[38;5;241;43m=\u001b[39;49m\u001b[38;5;241;43m4326\u001b[39;49m\u001b[43m,\u001b[49m\u001b[43m \u001b[49m\u001b[43mcrs\u001b[49m\u001b[38;5;241;43m=\u001b[39;49m\u001b[38;5;241;43m5070\u001b[39;49m\u001b[43m)\u001b[49m\n",
      "File \u001b[1;32m~\\anaconda3\\envs\\hyriver\\Lib\\site-packages\\py3dep\\py3dep.py:150\u001b[0m, in \u001b[0;36mget_map\u001b[1;34m(layers, geometry, resolution, geo_crs, crs)\u001b[0m\n\u001b[0;32m    147\u001b[0m valid_crs \u001b[38;5;241m=\u001b[39m ogc_utils\u001b[38;5;241m.\u001b[39mvalid_wms_crs(wms_url)\n\u001b[0;32m    149\u001b[0m \u001b[38;5;28;01mif\u001b[39;00m \u001b[38;5;28mlen\u001b[39m(valid_crs) \u001b[38;5;241m==\u001b[39m \u001b[38;5;241m0\u001b[39m:\n\u001b[1;32m--> 150\u001b[0m     \u001b[38;5;28;01mraise\u001b[39;00m ServiceUnavailableError(wms_url)\n\u001b[0;32m    152\u001b[0m \u001b[38;5;28;01mif\u001b[39;00m ogc_utils\u001b[38;5;241m.\u001b[39mvalidate_crs(crs)\u001b[38;5;241m.\u001b[39mlower() \u001b[38;5;129;01mnot\u001b[39;00m \u001b[38;5;129;01min\u001b[39;00m valid_crs:\n\u001b[0;32m    153\u001b[0m     \u001b[38;5;28;01mraise\u001b[39;00m InputValueError(\u001b[38;5;124m\"\u001b[39m\u001b[38;5;124mcrs\u001b[39m\u001b[38;5;124m\"\u001b[39m, valid_crs)\n",
      "\u001b[1;31mServiceUnavailableError\u001b[0m: Service is currently not available, try again later:\nhttps://elevation.nationalmap.gov/arcgis/services/3DEPElevation/ImageServer/WMSServer"
     ]
    }
   ],
   "source": [
    "topo = py3dep.get_map([\"DEM\", \"Slope Degrees\"], geometry, 90, geo_crs=4326, crs=5070)"
   ]
  },
  {
   "cell_type": "code",
   "execution_count": null,
   "metadata": {},
   "outputs": [],
   "source": [
    "dem = py3dep.get_dem(geometry, 30)\n",
    "dem = dem.rio.reproject(5070)\n",
    "slope = py3dep.deg2mpm(xrspatial.slope(dem))\n",
    "topo = xr.merge([dem, slope])"
   ]
  },
  {
   "cell_type": "markdown",
   "metadata": {},
   "source": [
    "We can save the DEM `DataArray` as a raster file using `rioxarray`:"
   ]
  },
  {
   "cell_type": "code",
   "execution_count": null,
   "metadata": {},
   "outputs": [],
   "source": [
    "dem.rio.to_raster(Path(\"input_data\", \"dem_11092450.tif\"))"
   ]
  },
  {
   "cell_type": "code",
   "execution_count": null,
   "metadata": {},
   "outputs": [],
   "source": [
    "fig, axs = plt.subplots(ncols=2, figsize=(13, 4))\n",
    "dem.plot(ax=axs[0])\n",
    "slope.plot(ax=axs[1])\n",
    "for ax in axs:\n",
    "    ax.set_title(\"\")\n",
    "    ax.set_axis_off()\n",
    "fig.savefig(\"_static/dem_slope.png\", bbox_inches=\"tight\", facecolor=\"w\")"
   ]
  },
  {
   "cell_type": "markdown",
   "metadata": {},
   "source": [
    "We can also get elevations of a list of coordinates using `py3dep.elevation_bycoords` function. This function is particularly useful for getting elevations of nodes of a network, for example, is a river or a street network. Let's use [osmnx](https://github.com/gboeing/osmnx) package to get a street network:"
   ]
  },
  {
   "cell_type": "code",
   "execution_count": null,
   "metadata": {},
   "outputs": [],
   "source": [
    "G = ox.graph_from_place(\"Piedmont, California, USA\", network_type=\"drive\")"
   ]
  },
  {
   "cell_type": "markdown",
   "metadata": {},
   "source": [
    "Now, we can get the elevations for each node based on their coordinates and then plot the results."
   ]
  },
  {
   "cell_type": "code",
   "execution_count": null,
   "metadata": {},
   "outputs": [],
   "source": [
    "x, y = nx.get_node_attributes(G, \"x\").values(), nx.get_node_attributes(G, \"y\").values()\n",
    "elevation = py3dep.elevation_bycoords(list(zip(x, y)), crs=\"epsg:4326\", source=\"airmap\")\n",
    "nx.set_node_attributes(G, dict(zip(G.nodes(), elevation)), \"elevation\")"
   ]
  },
  {
   "cell_type": "code",
   "execution_count": null,
   "metadata": {},
   "outputs": [],
   "source": [
    "nc = ox_plot.get_node_colors_by_attr(G, \"elevation\", cmap=\"terrain\")\n",
    "fig, ax = ox.plot_graph(\n",
    "    G,\n",
    "    node_color=nc,\n",
    "    node_size=10,\n",
    "    save=True,\n",
    "    bgcolor=\"w\",\n",
    "    filepath=\"_static/street_elev.png\",\n",
    "    dpi=100,\n",
    ")"
   ]
  },
  {
   "cell_type": "markdown",
   "metadata": {},
   "source": [
    "Note that, this function gets the elevation data from the elevation map of the bounding box of all the coordinates. So, if the larger the extent of this bounding box, the longer is going to take for the function to get the data."
   ]
  },
  {
   "cell_type": "markdown",
   "metadata": {},
   "source": [
    "Additionally, we can get the elevations of set of x- and y- coordinates of a grid. For example,\n",
    "let's get the minimum temperature data within the watershed from Daymet using [PyDaymet](https://github.com/cheginit/pydaymet) then add the elevation as a new variable to the dataset:"
   ]
  },
  {
   "cell_type": "code",
   "execution_count": null,
   "metadata": {},
   "outputs": [],
   "source": [
    "clm = daymet.get_bygeom(geometry, (\"2005-01-01\", \"2005-01-31\"), variables=\"tmin\")\n",
    "elev = py3dep.elevation_bygrid(clm.x.values, clm.y.values, clm.rio.crs, 1000)\n",
    "attrs = clm.attrs\n",
    "clm = xr.merge([clm, elev])\n",
    "clm[\"elevation\"] = clm.elevation.where(~np.isnan(clm.isel(time=0).tmin))\n",
    "clm.attrs.update(attrs)"
   ]
  },
  {
   "cell_type": "code",
   "execution_count": null,
   "metadata": {
    "tags": []
   },
   "outputs": [],
   "source": [
    "fig, (ax1, ax2) = plt.subplots(nrows=1, ncols=2, figsize=(15, 5))\n",
    "clm.tmin.isel(time=10).plot(ax=ax1)\n",
    "clm.elevation.plot(ax=ax2)"
   ]
  }
 ],
 "metadata": {
  "kernelspec": {
   "display_name": "Python [conda env:hyriver] *",
   "language": "python",
   "name": "conda-env-hyriver-py"
  },
  "language_info": {
   "codemirror_mode": {
    "name": "ipython",
    "version": 3
   },
   "file_extension": ".py",
   "mimetype": "text/x-python",
   "name": "python",
   "nbconvert_exporter": "python",
   "pygments_lexer": "ipython3",
   "version": "3.12.4"
  },
  "vscode": {
   "interpreter": {
    "hash": "003c82ad5971cfdf345b67bc4c483230f4144cd11e9aff06d93cf3af71d62f25"
   }
  }
 },
 "nbformat": 4,
 "nbformat_minor": 4
}
